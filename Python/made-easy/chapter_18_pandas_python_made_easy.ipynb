{
 "cells": [
  {
   "cell_type": "code",
   "execution_count": 1,
   "metadata": {},
   "outputs": [
    {
     "data": {
      "text/plain": [
       "'Глава 18.'"
      ]
     },
     "execution_count": 1,
     "metadata": {},
     "output_type": "execute_result"
    }
   ],
   "source": [
    "\"\"\"Глава 18.\"\"\""
   ]
  },
  {
   "cell_type": "markdown",
   "metadata": {},
   "source": [
    "# Pandas в действии\n",
    "\n",
    "**Конкатенация**:\n",
    "- `pd.concat([df1, df2])` — объединяет DataFrame по вертикали/горизонтали.\n",
    "\n",
    "**Агрегирование**:\n",
    "- `df.mean()` — среднее.\n",
    "- `df.median()` — медиана.\n",
    "- `df.count()` — количество ненулевых значений.\n",
    "\n",
    "**Переименование столбцов**:\n",
    "- `df.rename(columns={'old': 'new'})` — переименовать столбцы.\n",
    "\n",
    "**Удаление столбцов**:\n",
    "- `df.drop('col', axis=1)` — удалить столбец.\n",
    "- `df.drop(['col1', 'col2'], axis=1)` — удалить несколько столбцов.\n",
    "\n"
   ]
  },
  {
   "cell_type": "markdown",
   "metadata": {},
   "source": []
  }
 ],
 "metadata": {
  "kernelspec": {
   "display_name": "base",
   "language": "python",
   "name": "python3"
  },
  "language_info": {
   "codemirror_mode": {
    "name": "ipython",
    "version": 3
   },
   "file_extension": ".py",
   "mimetype": "text/x-python",
   "name": "python",
   "nbconvert_exporter": "python",
   "pygments_lexer": "ipython3",
   "version": "3.12.4"
  }
 },
 "nbformat": 4,
 "nbformat_minor": 2
}
