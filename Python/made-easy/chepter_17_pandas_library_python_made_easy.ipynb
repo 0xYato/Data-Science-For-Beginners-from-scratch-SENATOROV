{
 "cells": [
  {
   "cell_type": "code",
   "execution_count": 1,
   "metadata": {},
   "outputs": [
    {
     "data": {
      "text/plain": [
       "'Глава 17.'"
      ]
     },
     "execution_count": 1,
     "metadata": {},
     "output_type": "execute_result"
    }
   ],
   "source": [
    "\"\"\"Глава 17.\"\"\""
   ]
  },
  {
   "cell_type": "markdown",
   "metadata": {},
   "source": [
    "# Основы Pandas\n",
    "\n",
    "**Что такое Pandas?**\n",
    "Библиотека для работы с данными в таблицах (DataFrame) и списках с индексами (Series).\n",
    "\n",
    "**Основные структуры данных:**\n",
    "- **Series**: одномерный массив с индексами.\n",
    "- **DataFrame**: двумерная таблица с индексами и колонками.\n",
    "\n",
    "**Создание DataFrame:**\n",
    "- Из словаря: {колонки: данные}\n",
    "- Из списка: [[данные], [данные]]\n",
    "- Из CSV: `pd.read_csv('file.csv')`\n",
    "\n",
    "**Основные операции:**\n",
    "- Просмотр данных: `df.head()`, `df.tail()`, `df.info()`, `df.describe()`\n",
    "- Индексирование: `df['col']`, `df[0:5]`, `df.iloc[]`, `df.loc[]`\n",
    "- Фильтрация: `df[df['col'] > value]`\n",
    "- Изменение данных: `df['new_col'] = value`, `df.loc[condition, 'col'] = value`\n",
    "\n",
    "**Работа с пропусками:**\n",
    "- Проверка: `df.isna()`\n",
    "- Заполнение: `df.fillna(0)`\n",
    "- Удаление: `df.dropna()`\n",
    "\n",
    "**Операции с данными:**\n",
    "- Группировка: `df.groupby('col').agg()`\n",
    "- Сортировка: `df.sort_values('col')`\n",
    "- Объединение: `pd.merge()`, `pd.concat()`\n",
    "\n",
    "**Сохранение данных:**\n",
    "- В CSV: `df.to_csv('file.csv')`\n",
    "- В Excel: `df.to_excel('file.xlsx')`\n",
    "\n",
    "**Полезные методы:**\n",
    "- pivot_table(), merge(): сводные таблицы.\n",
    "- crosstab(): таблицы частот.\n",
    "- apply(): применение функции к данным.\n"
   ]
  }
 ],
 "metadata": {
  "kernelspec": {
   "display_name": "base",
   "language": "python",
   "name": "python3"
  },
  "language_info": {
   "codemirror_mode": {
    "name": "ipython",
    "version": 3
   },
   "file_extension": ".py",
   "mimetype": "text/x-python",
   "name": "python",
   "nbconvert_exporter": "python",
   "pygments_lexer": "ipython3",
   "version": "3.12.4"
  }
 },
 "nbformat": 4,
 "nbformat_minor": 2
}
