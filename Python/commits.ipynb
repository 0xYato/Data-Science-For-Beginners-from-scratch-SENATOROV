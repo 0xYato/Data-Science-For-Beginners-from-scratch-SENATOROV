{
 "cells": [
  {
   "cell_type": "code",
   "execution_count": null,
   "metadata": {},
   "outputs": [
    {
     "data": {
      "text/plain": [
       "'Commits'"
      ]
     },
     "execution_count": 1,
     "metadata": {},
     "output_type": "execute_result"
    }
   ],
   "source": [
    "\"\"\"Commits.\"\"\""
   ]
  },
  {
   "cell_type": "markdown",
   "metadata": {},
   "source": [
    "1. Опишите своими словами назначение каждого из этих типов коммитов:\n",
    "feat, fix, docs, style, refactor, test, build, ci, perf, chore.\n",
    "\n",
    "feat - добавление какой-либо важной функции в код\n",
    "\n",
    "fix - исправление багов, недочетов в коде.\n",
    "\n",
    "docs - дополнение документации.\n",
    "\n",
    "style - изменения в стиле кода, без изменения его структуры.\n",
    "\n",
    "refractor - изменения структуры кода.\n",
    "\n",
    "test - коммит, проводящийся в целях проверить работоспособность того или иного парта проекта\n",
    "\n",
    "build - изменения в сборке (setup) - добавление библиотек, линтеров и тд.\n",
    "\n",
    "ci - касаются конфигурации инструментов CI\n",
    "\n",
    "perf - оптимизация, улучшение производительности\n",
    "\n",
    "chore - выполнение мелкой задачи."
   ]
  },
  {
   "cell_type": "markdown",
   "metadata": {},
   "source": [
    "**2. Представьте, что вы исправили баг в функции, которая некорректно округляет числа. Сделайте фиктивный коммит и напишите для него сообщение в соответствии с Conventional Commits (используя тип fix).**\n",
    "\n",
    "- done: https://github.com/SENATOROVAI/Data-Science-For-Beginners-from-scratch-SENATOROV/commit/e1f49686642a33cb319dd2b2260a08638edf6313\n",
    "\n",
    "**3. Добавление новой функциональности: Допустим, вы реализовали новую функцию generateReport в проекте. Сделайте фиктивный коммит с типом feat, отражающий добавление этой функциональности**\n",
    "\n",
    "- done: https://github.com/SENATOROVAI/Data-Science-For-Beginners-from-scratch-SENATOROV/commit/f29412139c18577d067805c209a7827eb34977bf\n",
    "\n",
    "**4. Модификация формата кода или стилей: Представьте, что вы поправили отступы и форматирование во всём проекте, не меняя логики кода. Сделайте фиктивный коммит с типом style**\n",
    "\n",
    "- done: https://github.com/SENATOROVAI/Data-Science-For-Beginners-from-scratch-SENATOROV/commit/b7797e4c2d5fdd34766aab6964a11cf7f99e851f\n",
    "\n",
    "**5. Документация и тестирование: Сделайте фиктивный коммит с типом docs, добавляющий или улучшающий документацию для вашей новой функции.**\n",
    "\n",
    "**6. Сделайте фиктивный коммит с типом test, добавляющий тесты для этой же функции.**"
   ]
  },
  {
   "cell_type": "markdown",
   "metadata": {},
   "source": []
  }
 ],
 "metadata": {
  "kernelspec": {
   "display_name": "base",
   "language": "python",
   "name": "python3"
  },
  "language_info": {
   "codemirror_mode": {
    "name": "ipython",
    "version": 3
   },
   "file_extension": ".py",
   "mimetype": "text/x-python",
   "name": "python",
   "nbconvert_exporter": "python",
   "pygments_lexer": "ipython3",
   "version": "3.12.4"
  }
 },
 "nbformat": 4,
 "nbformat_minor": 2
}
